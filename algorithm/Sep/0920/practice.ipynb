{
 "cells": [
  {
   "cell_type": "code",
   "execution_count": 4,
   "metadata": {},
   "outputs": [
    {
     "name": "stdout",
     "output_type": "stream",
     "text": [
      "dfs stack = 0 1 2 3 4\n"
     ]
    }
   ],
   "source": [
    "graph = [\n",
    "    [0, 1, 0, 1, 0],    \n",
    "    [1, 0, 1, 1, 1],    \n",
    "    [0, 1, 0, 0, 0],    \n",
    "    [1, 1, 0, 0, 1],    \n",
    "    [0, 1, 0, 1, 0],    \n",
    "]\n",
    "# DFS\n",
    "# stack \n",
    "def dfs_stack(start):\n",
    "    visited = []\n",
    "    stack = [start]\n",
    "\n",
    "    while stack:\n",
    "        now = stack.pop()\n",
    "        # 이미 방문한 지점이라면 continue\n",
    "        if now in visited:\n",
    "            continue\n",
    "        \n",
    "        # 방문 하지 않았다면\n",
    "        visited.append(now)\n",
    "\n",
    "        # 갈 수 있는 곳들을 stack에 추가\n",
    "        for next in range(4, 0, -1):\n",
    "            # 연결이 안되어 있다면 continue\n",
    "            if graph[now][next] == 0:\n",
    "                continue\n",
    "\n",
    "            # 방문한 지점이라면 stack에 추가하지 않음\n",
    "            if next in visited:\n",
    "                continue\n",
    "\n",
    "            stack.append(next)\n",
    "    # 출력을 위한 반환\n",
    "    return visited\n",
    "\n",
    "print(\"dfs stack = \", end='')\n",
    "print(*dfs_stack(0))"
   ]
  },
  {
   "cell_type": "code",
   "execution_count": 3,
   "metadata": {},
   "outputs": [
    {
     "name": "stdout",
     "output_type": "stream",
     "text": [
      "dfs 재귀 =  0 1 2 3 4 "
     ]
    }
   ],
   "source": [
    "# DFS - 재귀\n",
    "# MAP 크기(길이)를 알 때 append 형식보다 아래처럼 쓰는 것이 빠르다\n",
    "visited = [0] * 5\n",
    "path = []   # 방문 순서 기록\n",
    "\n",
    "def dfs(now):\n",
    "    visited[now] = 1 # 방문 체크\n",
    "    # print(now, end = ' ')\n",
    "    path.append(now)\n",
    "    \n",
    "    # 인접한 노드들을 방문\n",
    "    for next in range(5):\n",
    "        if graph[now][next] == 0:\n",
    "            continue\n",
    "\n",
    "        if visited[next]:\n",
    "            continue\n",
    "\n",
    "        dfs(next)\n",
    "\n",
    "print('dfs 재귀 = ', end = ' ')\n",
    "dfs(0)\n",
    "print(*path)\n",
    "            "
   ]
  },
  {
   "cell_type": "code",
   "execution_count": 5,
   "metadata": {},
   "outputs": [
    {
     "name": "stdout",
     "output_type": "stream",
     "text": [
      "dfs 재귀 =  0 1 3 2 4 "
     ]
    }
   ],
   "source": [
    "graph = [\n",
    "    [0, 1, 0, 1, 0],    \n",
    "    [1, 0, 1, 1, 1],    \n",
    "    [0, 1, 0, 0, 0],    \n",
    "    [1, 1, 0, 0, 1],    \n",
    "    [0, 1, 0, 1, 0],    \n",
    "]\n",
    "# BFS\n",
    "def bfs(start):\n",
    "    visited = [0] * 5\n",
    "\n",
    "    # 먼저 방문한 것을 먼저 처리 = queue\n",
    "    queue = [start]\n",
    "    visited[start] = 1\n",
    "\n",
    "    while queue:\n",
    "        now = queue.pop(0)\n",
    "        print(now, end=' ')\n",
    "\n",
    "\n",
    "        # 인접한 노드들을 방문\n",
    "        for next in range(5):\n",
    "            if graph[now][next] == 0:\n",
    "                continue\n",
    "            # 방문했다면 queue에 추가 x\n",
    "            if visited[next]:\n",
    "                continue\n",
    "\n",
    "            queue.append(next)\n",
    "            # bfs는 여기서 방문체크 해도 됨\n",
    "            visited[next] = 1\n",
    "\n",
    "print('bfs stack = ', end=' ')\n",
    "bfs(0)\n"
   ]
  },
  {
   "cell_type": "code",
   "execution_count": null,
   "metadata": {},
   "outputs": [],
   "source": [
    "# 인접 리스트\n",
    "# 갈 수 있는 지점만 저장하자\n",
    "# 주의사항\n",
    "#   - 각 노드마다 갈 수 있는 지점의 개수가 다름\n",
    "#   -> range 쓸 때 index 조심\n",
    "# 메모리적으로 인접 행렬에 비해 훨씬 효율적\n",
    "graph = [\n",
    "    [1, 3],\n",
    "    [0, 2, 3, 4],\n",
    "    [1],\n",
    "    [0, 1, 4],\n",
    "    [1, 3],\n",
    "    \n",
    "]\n",
    "\n",
    "# DFS\n",
    "# stack \n",
    "def dfs_stack(start):\n",
    "    visited = []\n",
    "    stack = [start]\n",
    "\n",
    "    while stack:\n",
    "        now = stack.pop()\n",
    "        # 이미 방문한 지점이라면 continue\n",
    "        if now in visited:\n",
    "            continue\n",
    "        \n",
    "        # 방문 하지 않았다면\n",
    "        visited.append(now)\n",
    "\n",
    "        # 갈 수 있는 곳들을 stack에 추가\n",
    "        for to in range(len(graph[now]) -1, -1, -1):\n",
    "            # 연결이 되어 있지않다는 개념 x -> 필요없는 코드가 됨\n",
    "            # if graph[now][next] == 0:\n",
    "            #     continue\n",
    "            next = graph[now][to]\n",
    "            # 방문한 지점이라면 stack에 추가하지 않음\n",
    "            if next in visited:\n",
    "                continue\n",
    "\n",
    "            stack.append(next)\n",
    "    # 출력을 위한 반환\n",
    "    return visited\n",
    "\n",
    "print(\"dfs stack = \", end='')\n",
    "print(*dfs_stack(0))"
   ]
  },
  {
   "cell_type": "code",
   "execution_count": 7,
   "metadata": {},
   "outputs": [
    {
     "name": "stdout",
     "output_type": "stream",
     "text": [
      "2\n",
      "2\n"
     ]
    }
   ],
   "source": [
    "# disjoint-set (union - find)\n",
    "# 0 ~ 9\n",
    "# make set - 집합 만들기\n",
    "# 각 요소가 가리키는 값이 부모\n",
    "parent = [i for i in range(10)]\n",
    "\n",
    "# find-set\n",
    "def find_set(x):\n",
    "    if parent[x] == x:\n",
    "        return x\n",
    "    \n",
    "    return find_set(parent[x])\n",
    "\n",
    "# union\n",
    "def union(x, y):\n",
    "    # 1. 이미 같은 집합인 지 체크\n",
    "    x = find_set(x)\n",
    "    y = find_set(y)\n",
    "    \n",
    "    # 대표자가 같으면 같은 집합\n",
    "    if x == y:\n",
    "        print(\"싸이클 발생\")\n",
    "        return\n",
    "    # 2. 다른 집합이라면 같은 대표자로 수정\n",
    "    if x < y:\n",
    "        parent[y] = x\n",
    "    else:\n",
    "        parent[x] = y\n",
    "\n",
    "union(0, 1)\n",
    "\n",
    "union(2, 3)\n",
    "\n",
    "union(1, 3)\n",
    "# 대표자 검색\n",
    "print(find_set(2))\n",
    "print(find_set(3))\n",
    "\n",
    "# 같은 그룹인 지 판별\n",
    "t_x = 0\n",
    "t_y = 1\n",
    "\n",
    "if find_set(t_x) == find_set(t_y):\n",
    "    print(f'{t_x}와 {t_y}는 같은 집합에 속해 있습니다.')\n",
    "else:\n",
    "    print(f'{t_x}와 {t_y}는 다른 집합에 속해 있습니다.')"
   ]
  },
  {
   "cell_type": "code",
   "execution_count": null,
   "metadata": {},
   "outputs": [],
   "source": []
  }
 ],
 "metadata": {
  "kernelspec": {
   "display_name": "Python 3",
   "language": "python",
   "name": "python3"
  },
  "language_info": {
   "codemirror_mode": {
    "name": "ipython",
    "version": 3
   },
   "file_extension": ".py",
   "mimetype": "text/x-python",
   "name": "python",
   "nbconvert_exporter": "python",
   "pygments_lexer": "ipython3",
   "version": "3.9.13"
  },
  "orig_nbformat": 4
 },
 "nbformat": 4,
 "nbformat_minor": 2
}
