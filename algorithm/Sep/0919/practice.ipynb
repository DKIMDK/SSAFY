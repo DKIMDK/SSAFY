{
 "cells": [
  {
   "cell_type": "code",
   "execution_count": 6,
   "metadata": {},
   "outputs": [
    {
     "name": "stdout",
     "output_type": "stream",
     "text": [
      "1 2 3\n"
     ]
    }
   ],
   "source": [
    "# backtracking\n",
    "# {1, 2, 3} 집합에서 3개의 숫자를 선택하는 기본적인 예제\n",
    "k = 3\n",
    "arr = [i for i in range(1, k + 1)]\n",
    "path = [0] * k\n",
    "def backtracking(cnt):\n",
    "    # 기저 조건 - 숫자 3개를 골랐을 때 종료\n",
    "    if cnt == 3:\n",
    "        print(*path)\n",
    "        return\n",
    "    for num in arr:\n",
    "        # 가지치기 - 중복된 숫자 제거\n",
    "        if num in path:\n",
    "            continue\n",
    "        # 들어가기 전 로직 - 경로저장\n",
    "        path[cnt] = num\n",
    "        # 다음 재귀 함수 호출\n",
    "        backtracking(cnt + 1)\n",
    "        # 돌아와서 할 로직 - 초기화\n",
    "        path[cnt] = 0\n",
    "\n",
    "backtracking(0)"
   ]
  },
  {
   "cell_type": "code",
   "execution_count": 8,
   "metadata": {},
   "outputs": [
    {
     "name": "stdout",
     "output_type": "stream",
     "text": [
      "1 2 4 3 5 6 "
     ]
    }
   ],
   "source": [
    "# tree practice\n",
    "arr = [1, 2, 1, 3, 2, 4, 3, 5, 3, 6]\n",
    "\n",
    "# 0. 이진 트리 저장\n",
    "#   - 일차원 배열 저장\n",
    "[1, 2, 3, 4, 0, 5, 6]   \n",
    "# 1. 인접 리스트로 저장\n",
    "class TreeNode:\n",
    "    def __init__(self, value):\n",
    "        self.value = value\n",
    "        self.left = None\n",
    "        self.right = None\n",
    "    \n",
    "    def insert(self, childNode):\n",
    "        # 왼쪽 자식이 없을 경우\n",
    "        if not self.left:\n",
    "            self.left = childNode\n",
    "            return\n",
    "        # 오른쪽 자식이 없을 경우\n",
    "        elif not self.right:\n",
    "            self.right = childNode\n",
    "            return\n",
    "        \n",
    "        return\n",
    "\n",
    "    #순회\n",
    "    def preorder(self):\n",
    "        # 아무것도 없는 트리를 조회할 때\n",
    "        if self != None:\n",
    "            print(self.value, end = ' ')        # 이 행 위치에 따라 전위 중위 후위 순회 left right 현재 전위\n",
    "            # 왼쪽이 있다면 왼쪽 자식 조회\n",
    "            if self.left:\n",
    "                self.left.preorder()\n",
    "            # 오른쪽이 있다면 오른쪽 자식 조회\n",
    "            if self.right:\n",
    "                self.right.preorder()\n",
    "        \n",
    "# 이진 트리 만들기\n",
    "# nodes = [TreeNode(i) for i in range(1, 6 + 1)]\n",
    "nodes = [TreeNode(i) for i in range(0, 13 + 1)]\n",
    "for i in range(0, len(arr), 2):\n",
    "    parentNode = arr[i]\n",
    "    childNode = arr[i + 1]\n",
    "    nodes[parentNode].insert(nodes[childNode])\n",
    "\n",
    "nodes[1].preorder()\n",
    "# 2. 연결 리스트로 저장"
   ]
  },
  {
   "cell_type": "code",
   "execution_count": null,
   "metadata": {},
   "outputs": [],
   "source": []
  }
 ],
 "metadata": {
  "kernelspec": {
   "display_name": "Python 3",
   "language": "python",
   "name": "python3"
  },
  "language_info": {
   "codemirror_mode": {
    "name": "ipython",
    "version": 3
   },
   "file_extension": ".py",
   "mimetype": "text/x-python",
   "name": "python",
   "nbconvert_exporter": "python",
   "pygments_lexer": "ipython3",
   "version": "3.9.13"
  },
  "orig_nbformat": 4
 },
 "nbformat": 4,
 "nbformat_minor": 2
}
