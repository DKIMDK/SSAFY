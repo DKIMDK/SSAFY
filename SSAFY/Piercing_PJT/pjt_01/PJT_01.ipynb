{
 "cells": [
  {
   "cell_type": "markdown",
   "id": "e8ac5f29",
   "metadata": {},
   "source": [
    "### 'y' : 코드모드로 변경\n",
    "### 'm' : 마크다운 모드로 변경\n",
    "### 'a' : 커서 기준 위에 쉘 하나 추가\n",
    "### 'b' : 커서 기준 아래에 쉘 하나 추가\n",
    "### 'dd' : 쉘 삭제\n",
    "### 'shift + enter' : 실행 후 커서를 아래로 이동\n",
    "### 'ctrl + enter' : 실행 후 커서를 제자리에"
   ]
  },
  {
   "cell_type": "code",
   "execution_count": 4,
   "id": "da8947fb",
   "metadata": {},
   "outputs": [],
   "source": [
    "import requests\n",
    "API_key = 'e91d2918cc23571fb8db766aeefc6782'"
   ]
  },
  {
   "cell_type": "code",
   "execution_count": 12,
   "id": "6182adf9",
   "metadata": {},
   "outputs": [],
   "source": [
    "lat = 37.56\n",
    "lon = 126.97\n",
    "city_name = 'Seoul,KR'\n",
    "url = f'https://api.openweathermap.org/data/2.5/weather?q={city_name}&appid={API_key}'"
   ]
  },
  {
   "cell_type": "code",
   "execution_count": 13,
   "id": "4990edb8",
   "metadata": {},
   "outputs": [
    {
     "data": {
      "text/plain": [
       "{'coord': {'lon': 126.9778, 'lat': 37.5683},\n",
       " 'weather': [{'id': 721,\n",
       "   'main': 'Haze',\n",
       "   'description': 'haze',\n",
       "   'icon': '50d'}],\n",
       " 'base': 'stations',\n",
       " 'main': {'temp': 303.36,\n",
       "  'feels_like': 307.72,\n",
       "  'temp_min': 302.81,\n",
       "  'temp_max': 303.91,\n",
       "  'pressure': 1012,\n",
       "  'humidity': 66},\n",
       " 'visibility': 6000,\n",
       " 'wind': {'speed': 1.54, 'deg': 170},\n",
       " 'clouds': {'all': 20},\n",
       " 'dt': 1689903645,\n",
       " 'sys': {'type': 1,\n",
       "  'id': 8105,\n",
       "  'country': 'KR',\n",
       "  'sunrise': 1689884782,\n",
       "  'sunset': 1689936610},\n",
       " 'timezone': 32400,\n",
       " 'id': 1835848,\n",
       " 'name': 'Seoul',\n",
       " 'cod': 200}"
      ]
     },
     "execution_count": 13,
     "metadata": {},
     "output_type": "execute_result"
    }
   ],
   "source": [
    "#API 요청 보내기\n",
    "response = requests.get(url).json()\n"
   ]
  },
  {
   "cell_type": "code",
   "execution_count": 22,
   "id": "e5dea4eb",
   "metadata": {},
   "outputs": [
    {
     "data": {
      "text/plain": [
       "'haze'"
      ]
     },
     "execution_count": 22,
     "metadata": {},
     "output_type": "execute_result"
    }
   ],
   "source": [
    "temp = response.get('main').get('temp')\n",
    "\n",
    "# 섭씨\n",
    "temp -= 273.15\n",
    "# description\n",
    "response.get('weather')[0].get('description')"
   ]
  },
  {
   "cell_type": "code",
   "execution_count": null,
   "id": "cbf7f7a3",
   "metadata": {},
   "outputs": [],
   "source": []
  }
 ],
 "metadata": {
  "kernelspec": {
   "display_name": "Python 3",
   "language": "python",
   "name": "python3"
  },
  "language_info": {
   "codemirror_mode": {
    "name": "ipython",
    "version": 3
   },
   "file_extension": ".py",
   "mimetype": "text/x-python",
   "name": "python",
   "nbconvert_exporter": "python",
   "pygments_lexer": "ipython3",
   "version": "3.9.13"
  }
 },
 "nbformat": 4,
 "nbformat_minor": 5
}
