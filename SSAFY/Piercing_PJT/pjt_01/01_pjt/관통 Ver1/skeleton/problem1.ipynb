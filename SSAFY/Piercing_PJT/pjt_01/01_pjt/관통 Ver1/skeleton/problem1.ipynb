{
 "cells": [
  {
   "cell_type": "code",
   "execution_count": 1,
   "id": "48c3af78",
   "metadata": {},
   "outputs": [],
   "source": [
    "# 필요 패키지 import\n",
    "import pprint\n",
    "import requests"
   ]
  },
  {
   "cell_type": "markdown",
   "id": "d5723667",
   "metadata": {},
   "source": [
    "# 문제1. 전체 정기예금의 응답을 json 형태로 변환하여 key 값만 출력하시오.\n",
    "- 공식문서의 요청변수와 예제 요청결과(JSON) 부분을 참고합니다.\n",
    "- [힌트] 아래와 같은 순서로 데이터를 출력하며 진행합니다.\n",
    "- 1. 응답을 json 형식으로 변환합니다.\n",
    "- 2. key 값이 \"result\" 인 데이터에 모든 정보가 담겨 있습니다.\n",
    "- 3. key 값이 \"result\" 인 데이터의 key 값만 출력합니다."
   ]
  },
  {
   "cell_type": "code",
   "execution_count": 69,
   "id": "dcdb1972",
   "metadata": {},
   "outputs": [],
   "source": [
    "def get_deposit_products():\n",
    "         # 본인의 API KEY 로 수정합니다.\n",
    "    api_key = \"571e478d612ec4816ff403c7dbc1c255\"\n",
    "    url = 'http://finlife.fss.or.kr/finlifeapi/depositProductsSearch.json'\n",
    "    params = {\n",
    "        'auth' : api_key,\n",
    "        'topFinGrpNo' : '020000',\n",
    "        'pageNo' : 1\n",
    "    }\n",
    "    # 요구사항에 맞도록 이곳의 코드를 수정합니다.\n",
    "    result = requests.get(url, params = params).json().get('result').keys()\n",
    "    \n",
    "    \n",
    "    return result"
   ]
  },
  {
   "cell_type": "code",
   "execution_count": 70,
   "id": "9a3c23f1",
   "metadata": {},
   "outputs": [
    {
     "name": "stdout",
     "output_type": "stream",
     "text": [
      "dict_keys(['prdt_div', 'total_count', 'max_page_no', 'now_page_no', 'err_cd', 'err_msg', 'baseList', 'optionList'])\n"
     ]
    }
   ],
   "source": [
    "# 아래 코드는 수정하지 않습니다.\n",
    "if __name__ == '__main__':\n",
    "    # json 형태의 데이터 반환\n",
    "    result = get_deposit_products()\n",
    "    # prrint.prrint(): json 을 보기 좋은 형식으로 출력\n",
    "    pprint.pprint(result)\n"
   ]
  },
  {
   "cell_type": "code",
   "execution_count": null,
   "id": "4793a7d8",
   "metadata": {},
   "outputs": [],
   "source": [
    "'''\n",
    "금융 상품: ‘금융회사명’, ‘금융상품명’, ‘금리정보’\n",
    "• 해당 금융 상품의 금리 정보(옵션): ‘저축금리유형’, ‘저축금리유형명’, ‘저축 기간’, ‘저축 금리’, ‘최고 우대금리’\n",
    "하나의 금융 상품에 대해 여러 개의 옵션을 가질 수 있습니다.\n",
    "• [힌트] 금융 상품 코드가 같은 금융 상품과 옵션을 하나의 딕셔너리로 만듭니다\n",
    "'''"
   ]
  }
 ],
 "metadata": {
  "kernelspec": {
   "display_name": "Python 3 (ipykernel)",
   "language": "python",
   "name": "python3"
  },
  "language_info": {
   "codemirror_mode": {
    "name": "ipython",
    "version": 3
   },
   "file_extension": ".py",
   "mimetype": "text/x-python",
   "name": "python",
   "nbconvert_exporter": "python",
   "pygments_lexer": "ipython3",
   "version": "3.9.13"
  }
 },
 "nbformat": 4,
 "nbformat_minor": 5
}
