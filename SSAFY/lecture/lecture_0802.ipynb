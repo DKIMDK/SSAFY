{
 "cells": [
  {
   "cell_type": "code",
   "execution_count": 3,
   "metadata": {},
   "outputs": [
    {
     "name": "stdout",
     "output_type": "stream",
     "text": [
      "0\n",
      "1\n",
      "2\n",
      "3\n",
      "4\n",
      "5\n",
      "6\n",
      "7\n"
     ]
    }
   ],
   "source": [
    "# 행 우선 순회\n",
    "arr = [[0,1,2,3],[4,5,6,7]]\n",
    "n = 2 # 행의 크기\n",
    "m = 4 # 열의 크기\n",
    "for i in range(n):\n",
    "    for j in range(m):\n",
    "        print(arr[i][j])"
   ]
  },
  {
   "cell_type": "code",
   "execution_count": 1,
   "metadata": {},
   "outputs": [
    {
     "name": "stdout",
     "output_type": "stream",
     "text": [
      "0\n",
      "4\n",
      "1\n",
      "5\n",
      "2\n",
      "6\n",
      "3\n",
      "7\n"
     ]
    }
   ],
   "source": [
    "# 열 우선 순회\n",
    "\n",
    "for j in range(m):\n",
    "    for i in range(n):\n",
    "        print(arr[i][j])"
   ]
  },
  {
   "cell_type": "code",
   "execution_count": 2,
   "metadata": {},
   "outputs": [
    {
     "name": "stdout",
     "output_type": "stream",
     "text": [
      "0\n",
      "1\n",
      "2\n",
      "3\n",
      "7\n",
      "6\n",
      "5\n",
      "4\n"
     ]
    }
   ],
   "source": [
    "# 2차원 배열 지그재그 순회\n",
    "n = 2 # 행의 크기\n",
    "m = 4 # 열의 크기\n",
    "\n",
    "for i in range(n):\n",
    "    for j in range(m):\n",
    "        print(arr[i][j + (m-1-2*j) * (i%2)])"
   ]
  },
  {
   "cell_type": "code",
   "execution_count": 5,
   "metadata": {},
   "outputs": [
    {
     "name": "stdout",
     "output_type": "stream",
     "text": [
      "[[0, 0, 0, 0], [0, 0, 0, 0]]\n",
      "[[0, 0, 0, 0], [0, 0, 0, 0]]\n",
      "[[1, 0, 0, 0], [0, 0, 0, 0]]\n",
      "[[1, 0, 0, 0], [1, 0, 0, 0]]\n"
     ]
    }
   ],
   "source": [
    "n = 2\n",
    "m = 4 # 열의 크기\n",
    "## 2차원 배열 초기화 하는 방법. 절대로 *n을 하지마\n",
    "arr = [[0]* m for _ in range(n)]\n",
    "arr2 = [[0]*m] * n\n",
    "print(arr)\n",
    "print(arr2)\n",
    "\n",
    "arr[0][0] = 1\n",
    "arr2[0][0] = 1\n",
    "print(arr)\n",
    "print(arr2)"
   ]
  },
  {
   "cell_type": "code",
   "execution_count": 6,
   "metadata": {},
   "outputs": [
    {
     "name": "stdout",
     "output_type": "stream",
     "text": [
      "22\n"
     ]
    }
   ],
   "source": [
    "n = 2\n",
    "m = 4\n",
    "arr = [[0, 1, 2, 3], [4, 5, 6, 7]]\n",
    "\n",
    "max_v = 0\n",
    "for i in range(n):\n",
    "    row_total = 0\n",
    "    for j in range(m):\n",
    "        row_total += arr[i][j]\n",
    "    if max_v < row_total:\n",
    "        max_v = row_total\n",
    "        "
   ]
  },
  {
   "cell_type": "code",
   "execution_count": 14,
   "metadata": {},
   "outputs": [],
   "source": [
    "## 델타를 이용한 2차 배열 탐색\n",
    "''' \n",
    "3\n",
    "1 2 3 \n",
    "4 5 6\n",
    "7 8 9\n",
    "\n",
    "'''\n",
    "\n",
    "n = int(input())\n",
    "arr = [list(map(int, input().split())) for _ in range(N)]\n",
    "# arr = [[1, 2, 3], [4, 5, 6], [7, 8, 9]] # NXN 배열\n",
    "di = [0, 1, 0, -1] \n",
    "dj = [1, 0, -1, 0]  ## 중심을 기준으로 우, 하, 좌, 상\n",
    "\n",
    "max_v = 0\n",
    "\n",
    "for i in range(n):\n",
    "    for j in range(n):\n",
    "        # arr[i][j] 중심으로\n",
    "        s = arr[i][j]\n",
    "        for k in range(4):\n",
    "            ni = i + di[k]\n",
    "            nj = j + dj[k]\n",
    "            if 0 <= ni < n and 0 <= nj < n: ## 유효한 인덱스면, 가장자리에 있을 경우 오류 남을 방지\n",
    "                s += (arr[ni][nj])\n",
    "        # 여기까지 주변 원소를 포함한 합\n",
    "        if max_v < s:\n",
    "            max_v = s"
   ]
  },
  {
   "cell_type": "code",
   "execution_count": null,
   "metadata": {},
   "outputs": [],
   "source": [
    "## 델타를 이용한 2차 배열 탐색 << 오늘 제일 중요\n",
    "''' \n",
    "3\n",
    "1 2 3 \n",
    "4 5 6\n",
    "7 8 9\n",
    "\n",
    "'''\n",
    "\n",
    "n = int(input())\n",
    "arr = [list(map(int, input().split())) for _ in range(N)]\n",
    "# arr = [[1, 2, 3], [4, 5, 6], [7, 8, 9]] # NXN 배열\n",
    "di = [0, 1, 0, -1] \n",
    "dj = [1, 0, -1, 0]  ## 중심을 기준으로 우, 하, 좌, 상\n",
    "\n",
    "max_v = 0\n",
    "\n",
    "for i in range(n):\n",
    "    for j in range(n):\n",
    "        # arr[i][j] 중심으로\n",
    "        s = arr[i][j]\n",
    "        for k in range(4):\n",
    "            for p in range(1, m): ## 상하좌우 한 칸이 아니고 m칸을 search\n",
    "                ni = i + di[k]*p\n",
    "                nj = j + dj[k]*p\n",
    "                if 0 <= ni < n and 0 <= nj < n: ## 유효한 인덱스면, 가장자리에 있을 경우 오류 남을 방지\n",
    "                    s += (arr[ni][nj])\n",
    "            # 여기까지 주변 원소를 포함한 합\n",
    "            if max_v < s:\n",
    "                max_v = s"
   ]
  },
  {
   "cell_type": "code",
   "execution_count": null,
   "metadata": {},
   "outputs": [],
   "source": [
    "# 전치행렬\n",
    "arr = [[1, 2, 3], [4, 5, 6], [7, 8, 9]]\n",
    "for i in range(3):\n",
    "    for j in range(3):\n",
    "        if i < j:\n",
    "            arr[i][j], arr[j][i] = arr[j][i], arr[i][j]\n"
   ]
  },
  {
   "cell_type": "code",
   "execution_count": null,
   "metadata": {},
   "outputs": [],
   "source": [
    "N = int(input())\n",
    "arr = [list(map(int, input().split())) for _ in range(N)] # N*N 행렬\n",
    "total1 = 0\n",
    "for i in range(N):\n",
    "    total1 += arr[i][i] # 대각선 조회\n",
    "total2 = 0\n",
    "for i in range(N):\n",
    "    total2 += arr[i][N-1-i] # 우상좌하 대각선"
   ]
  },
  {
   "cell_type": "code",
   "execution_count": 18,
   "metadata": {},
   "outputs": [
    {
     "name": "stdout",
     "output_type": "stream",
     "text": [
      "#1 6\n"
     ]
    }
   ],
   "source": [
    "def gravity(boxes):\n",
    "    maxv = 0\n",
    "    for now, box in enumerate(boxes):\n",
    "        fall = 0\n",
    "        for next in range(now + 1, len(boxes)):\n",
    "            if box > boxes[next]:\n",
    "                fall += 1\n",
    "        maxv = max(maxv, fall)\n",
    "        return maxv\n",
    "\n",
    "T = int(input())\n",
    "for tc in range(1,T+1):\n",
    "    n = int(input())\n",
    "    boxes = list(map(int, input().split()))\n",
    "    print(f'#{tc} {gravity(boxes)}')"
   ]
  },
  {
   "cell_type": "code",
   "execution_count": 19,
   "metadata": {},
   "outputs": [
    {
     "ename": "IndexError",
     "evalue": "list assignment index out of range",
     "output_type": "error",
     "traceback": [
      "\u001b[1;31m---------------------------------------------------------------------------\u001b[0m",
      "\u001b[1;31mIndexError\u001b[0m                                Traceback (most recent call last)",
      "Cell \u001b[1;32mIn[19], line 30\u001b[0m\n\u001b[0;32m     28\u001b[0m \u001b[39mfor\u001b[39;00m i \u001b[39min\u001b[39;00m \u001b[39mrange\u001b[39m(\u001b[39mlen\u001b[39m(red)):\n\u001b[0;32m     29\u001b[0m     \u001b[39mfor\u001b[39;00m j \u001b[39min\u001b[39;00m \u001b[39mrange\u001b[39m(\u001b[39m2\u001b[39m):\n\u001b[1;32m---> 30\u001b[0m         arr[i][j] \u001b[39m=\u001b[39m \u001b[39mmin\u001b[39m(red[i][j], blue[i][j])\n\u001b[0;32m     31\u001b[0m \u001b[39mprint\u001b[39m(arr)\n",
      "\u001b[1;31mIndexError\u001b[0m: list assignment index out of range"
     ]
    }
   ],
   "source": [
    "''' \n",
    "2\n",
    "\n",
    "2 2 4 4 1  ( [2,2] 부터 [4,4] 까지 color 1 (빨강) 으로 칠한다 )\n",
    "\n",
    "3 3 6 6 2 ( [3,3] 부터 [6,6] 까지 color 2 (파랑) 으로 칠한다 )\n",
    "\n",
    " \n",
    "[입력]\n",
    " \n",
    "첫 줄에 테스트 케이스 개수 T가 주어진다.   ( 1 ≤ T ≤ 50 )\n",
    "\n",
    "다음 줄부터 테스트케이스의 첫 줄에 칠할 영역의 개수 N이 주어진다. ( 2 ≤ N ≤ 30 )\n",
    "\n",
    "다음 줄에 왼쪽 위 모서리 인덱스 r1, c1, 오른쪽 아래 모서리 r2, c2와 색상 정보 color가 주어진다. ( 0 ≤ r1, c1, r2, c2 ≤ 9 )\n",
    "\n",
    "color = 1 (빨강), color = 2 (파랑)\n",
    "\n",
    "\n",
    "[출력]\n",
    " \n",
    "각 줄마다 \"#T\" (T는 테스트 케이스 번호)를 출력한 뒤, 답을 출력한다.\n",
    "'''\n",
    "T = int(input())\n",
    "for tc in range(1, T+1):\n",
    "    N = int(input())\n",
    "    ## 10x 10 격자 생성\n",
    "    arr = [[0]* 10 for _ in range(10)]\n",
    "    result = 0\n",
    "    for k in range(N):\n",
    "        red1, blue1, red2, blue2, color = map(int, input().split())\n",
    "\n",
    "        for i in range(red1, red2 +1):\n",
    "            for j in range(blue1, blue2 +1):\n",
    "                arr[i][j] += color\n",
    "                # 격자 값이 3이면 카운팅\n",
    "                if arr[i][j] == 3:\n",
    "                    result += 1\n",
    "    print(f'#{tc} {result}')"
   ]
  },
  {
   "cell_type": "code",
   "execution_count": null,
   "metadata": {},
   "outputs": [],
   "source": [
    "m = [[3, 3, 5, 3, 1], [2, 2, 4, 2, 6], [4, 9, 2, 3, 4], [1, 1, 1, 1, 1], [3, 3, 5, 9, 2]]\n",
    "''' \n",
    "map에서 대각선 방향의 합이 가장 큰 값이 나오는 좌표(y,x) 출력\n",
    "대각선 합 구하는 함수를 만들어 사용\n",
    "'''"
   ]
  }
 ],
 "metadata": {
  "kernelspec": {
   "display_name": "Python 3",
   "language": "python",
   "name": "python3"
  },
  "language_info": {
   "codemirror_mode": {
    "name": "ipython",
    "version": 3
   },
   "file_extension": ".py",
   "mimetype": "text/x-python",
   "name": "python",
   "nbconvert_exporter": "python",
   "pygments_lexer": "ipython3",
   "version": "3.9.13"
  },
  "orig_nbformat": 4
 },
 "nbformat": 4,
 "nbformat_minor": 2
}
