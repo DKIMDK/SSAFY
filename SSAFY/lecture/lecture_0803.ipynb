{
 "cells": [
  {
   "cell_type": "code",
   "execution_count": 5,
   "metadata": {},
   "outputs": [
    {
     "name": "stdout",
     "output_type": "stream",
     "text": [
      "[0, 0, 0, 0] 0\n",
      "4 [0, 0, 0, 1] 4\n",
      "3 [0, 0, 1, 0] 3\n",
      "3 4 [0, 0, 1, 1] 7\n",
      "2 [0, 1, 0, 0] 2\n",
      "2 4 [0, 1, 0, 1] 6\n",
      "2 3 [0, 1, 1, 0] 5\n",
      "2 3 4 [0, 1, 1, 1] 9\n",
      "1 [1, 0, 0, 0] 1\n",
      "1 4 [1, 0, 0, 1] 5\n",
      "1 3 [1, 0, 1, 0] 4\n",
      "1 3 4 [1, 0, 1, 1] 8\n",
      "1 2 [1, 1, 0, 0] 3\n",
      "1 2 4 [1, 1, 0, 1] 7\n",
      "1 2 3 [1, 1, 1, 0] 6\n",
      "1 2 3 4 [1, 1, 1, 1] 10\n"
     ]
    }
   ],
   "source": [
    "# 부분집합 생성하기\n",
    "\n",
    "def print_subset(bit, arr, n):\n",
    "    total = 0\n",
    "    for i in range(n):\n",
    "        if bit[i]:\n",
    "            print(arr[i], end = ' ')\n",
    "            total += arr[i]\n",
    "    print(bit, total)\n",
    "arr = [1, 2, 3, 4]\n",
    "bit = [0, 0, 0, 0]\n",
    "for i in range(2):\n",
    "    bit[0] = i\n",
    "    for j in range(2):\n",
    "        bit[1] = j\n",
    "        for k in range(2):\n",
    "            bit[2] = k\n",
    "            for l in range(2):\n",
    "                bit[3] = l\n",
    "                print_subset(bit, arr, 4)"
   ]
  },
  {
   "cell_type": "code",
   "execution_count": 6,
   "metadata": {},
   "outputs": [
    {
     "name": "stdout",
     "output_type": "stream",
     "text": [
      "\n",
      "1, \n",
      "2, \n",
      "1, 2, \n",
      "3, \n",
      "1, 3, \n",
      "2, 3, \n",
      "1, 2, 3, \n",
      "\n"
     ]
    }
   ],
   "source": [
    "## 부분집합 with bit연산\n",
    "\n",
    "arr = [1, 2, 3]\n",
    "\n",
    "n = len(arr)\n",
    "\n",
    "for i in range(1<<n):           # 1<<n : 부분 집합의 개수\n",
    "    for j in range(n):          # 원소의 수만큼 비트를 비교\n",
    "        if i & (1<<j):          # i의 j번 비트가 1인 경우\n",
    "            print(arr[j], end = \", \")   # j번 원소 출력\n",
    "    print()\n",
    "print()"
   ]
  },
  {
   "cell_type": "code",
   "execution_count": null,
   "metadata": {},
   "outputs": [],
   "source": [
    "## SWEA course list2 sum of subset\n",
    "A = [i for i in range(1, 12 + 1)]"
   ]
  },
  {
   "cell_type": "code",
   "execution_count": null,
   "metadata": {},
   "outputs": [],
   "source": [
    "## 순차검색 알고리즘 (정렬안된경우)\n",
    "def sequentialSearch(a, n, key):\n",
    "    i <- 0\n",
    "    while i < n and a[i] != key:\n",
    "        i <- i+1\n",
    "    if i < n: return i\n",
    "    else: return -1"
   ]
  },
  {
   "cell_type": "code",
   "execution_count": 2,
   "metadata": {},
   "outputs": [
    {
     "data": {
      "text/plain": [
       "False"
      ]
     },
     "execution_count": 2,
     "metadata": {},
     "output_type": "execute_result"
    }
   ],
   "source": [
    "## 이진검색 알고리즘\n",
    "\n",
    "def binarySearch(a, N, key):\n",
    "    start = 0\n",
    "    end = N-1\n",
    "    while start <= end:\n",
    "        middle = (start + end) // 2\n",
    "        if a[middle] == key: # 검색 성공\n",
    "            return True\n",
    "        elif a[middle] > key :\n",
    "            end = middle - 1\n",
    "        else :\n",
    "            start = middle + 1\n",
    "    return False            # 검색 실패\n"
   ]
  },
  {
   "cell_type": "code",
   "execution_count": null,
   "metadata": {},
   "outputs": [],
   "source": [
    "## 선택정렬 index\n",
    "\n",
    "def selectionSort(a, N):\n",
    "    for i in range(N-1):\n",
    "        minIdx = i\n",
    "        for j in range(i+1, N):\n",
    "            if a[minIdx] > a[j]:\n",
    "                minIdx = j\n",
    "        ## if문 이자리에 넣지마세요 체질이란게 바뀝니다 쓸데없이 느려짐\n",
    "        a[i], a[minIdx] = a[minIdx], a[i]"
   ]
  },
  {
   "cell_type": "code",
   "execution_count": null,
   "metadata": {},
   "outputs": [],
   "source": [
    "## selection algorithm -- k번째로 작은 원소 찾기\n",
    "def select(arr, k):\n",
    "    for i in range(0, k):\n",
    "        minIndex = i\n",
    "        for j in range(i+1, len(arr)):\n",
    "            if arr[minIndex] > arr[j]:\n",
    "                minIndex = j\n",
    "        arr[i], arr[minIndex] = arr[minIndex], arr[i]\n",
    "    return arr[k-1]"
   ]
  },
  {
   "cell_type": "code",
   "execution_count": 16,
   "metadata": {},
   "outputs": [
    {
     "name": "stdout",
     "output_type": "stream",
     "text": [
      "#1 1\n"
     ]
    }
   ],
   "source": [
    "T = int(input())\n",
    "for tc in range(1, T + 1):\n",
    "    A = [i for i in range(1, 13)]\n",
    "    N, K = map(int, input().split())\n",
    "    count = 0\n",
    "    for i in range(1 << len(A)):\n",
    "        sum_sub = 0\n",
    "        subset = []\n",
    "        for j in range(len(A)):\n",
    "            if i & (1 << j):\n",
    "                sum_sub += A[j]\n",
    "                subset.append(A[j])\n",
    "\n",
    "        if sum_sub == K and len(subset) == N:\n",
    "            count += 1\n",
    "\n",
    "    print(f'#{tc} {count}')"
   ]
  },
  {
   "cell_type": "code",
   "execution_count": null,
   "metadata": {},
   "outputs": [],
   "source": [
    "def binarySearch(pages, p):\n",
    "    start = 1\n",
    "    end = pages\n",
    "    c = 0\n",
    "    cnt = 1\n",
    "    while p != c:\n",
    "        c = int((start + end) / 2)\n",
    "        if c > p:\n",
    "            end = c\n",
    "        else:\n",
    "            start = c\n",
    "        cnt += 1\n",
    "    return cnt\n",
    "\n",
    "T = int(input())\n",
    "for tc in range(1, T+1):\n",
    "    pages, Pa, Pb  = map(int, input().split())\n",
    "    A = binarySearch(pages, Pa)\n",
    "    B = binarySearch(pages, Pb)\n",
    "    if A == B:\n",
    "        result = 0 \n",
    "    elif A > B:\n",
    "        result = 'B'\n",
    "    else:\n",
    "        result = 'A'\n",
    "    print(f'#{tc} {result}')"
   ]
  },
  {
   "cell_type": "code",
   "execution_count": 19,
   "metadata": {},
   "outputs": [
    {
     "name": "stdout",
     "output_type": "stream",
     "text": [
      "#1 10 1 9 2 8 3 7 4 6 5\n"
     ]
    }
   ],
   "source": [
    "T = int(input())\n",
    "for tc in range(1, T+1):\n",
    "    N = int(input())\n",
    "    numbers = list(map(int, input().split()))\n",
    "    result = []\n",
    "\n",
    "    while len(numbers) > 0:\n",
    "        max_value = max(numbers)\n",
    "        numbers.remove(max_value)\n",
    "        result.append(max_value)\n",
    "        \n",
    "        min_value = min(numbers)\n",
    "        numbers.remove(min_value)\n",
    "        result.append(min_value)\n",
    "    print(f'#{tc}' , *result[:10])\n",
    "\n"
   ]
  },
  {
   "cell_type": "code",
   "execution_count": 24,
   "metadata": {},
   "outputs": [
    {
     "ename": "ValueError",
     "evalue": "invalid literal for int() with base 10: '3 10 1 2 3 4 5 6 7 8 9 10 10 67 39 16 49 60 28 8 85 89 11 20 3 69 21 46 43 60 62 97 64 30 17 88 18 98 71 75 59 36 9 26'",
     "output_type": "error",
     "traceback": [
      "\u001b[1;31m---------------------------------------------------------------------------\u001b[0m",
      "\u001b[1;31mValueError\u001b[0m                                Traceback (most recent call last)",
      "Cell \u001b[1;32mIn[24], line 17\u001b[0m\n\u001b[0;32m     14\u001b[0m             lst[i], lst[maxIdx] \u001b[39m=\u001b[39m lst[maxIdx], lst[i]\n\u001b[0;32m     15\u001b[0m     \u001b[39mreturn\u001b[39;00m lst[:\u001b[39m10\u001b[39m]\n\u001b[1;32m---> 17\u001b[0m T \u001b[39m=\u001b[39m \u001b[39mint\u001b[39;49m(\u001b[39minput\u001b[39;49m())\n\u001b[0;32m     18\u001b[0m \u001b[39mfor\u001b[39;00m tc \u001b[39min\u001b[39;00m \u001b[39mrange\u001b[39m(\u001b[39m1\u001b[39m, T\u001b[39m+\u001b[39m\u001b[39m1\u001b[39m):\n\u001b[0;32m     19\u001b[0m     N \u001b[39m=\u001b[39m \u001b[39mint\u001b[39m(\u001b[39minput\u001b[39m())\n",
      "\u001b[1;31mValueError\u001b[0m: invalid literal for int() with base 10: '3 10 1 2 3 4 5 6 7 8 9 10 10 67 39 16 49 60 28 8 85 89 11 20 3 69 21 46 43 60 62 97 64 30 17 88 18 98 71 75 59 36 9 26'"
     ]
    }
   ],
   "source": [
    "def specialSort(lst):\n",
    "    for i in range(10):\n",
    "        minIdx = i\n",
    "        maxIdx = i\n",
    "        if i % 2 == 1:\n",
    "            for j in range(i+1, len(lst)):\n",
    "                if lst[minIdx] > lst[j]:\n",
    "                    minIdx = j\n",
    "            lst[i], lst[minIdx] = lst[minIdx], lst[i]\n",
    "        else:\n",
    "            for j in range(i+1, len(lst)):\n",
    "                if lst[maxIdx] < lst[j]:\n",
    "                    maxIdx = j\n",
    "            lst[i], lst[maxIdx] = lst[maxIdx], lst[i]\n",
    "    return lst[:10]\n",
    "\n",
    "T = int(input())\n",
    "for tc in range(1, T+1):\n",
    "    N = int(input())\n",
    "    lst = list(map(int, input().split()))\n",
    "    lst = specialSort(lst)\n",
    "    print(f'#{tc}' , *lst)\n"
   ]
  },
  {
   "cell_type": "code",
   "execution_count": 7,
   "metadata": {},
   "outputs": [
    {
     "name": "stdout",
     "output_type": "stream",
     "text": [
      "[['_', '#', '_', '#', '@'], ['_', '#', '_', '#', '@'], ['@', '_', '_', '_', '#']]\n"
     ]
    }
   ],
   "source": [
    "''' \n",
    "첫 줄에는 세로(N), 가로(M) 크기가 입력으로 주어집니다.(1<= N <= 20)\n",
    "다음 줄에는 화력(K)가 주어집니다 (1<= K <=10)\n",
    "다음 줄 부터는 초기 폭발 전 상태가 입력으로 주어집니다.\n",
    "# : 벽\n",
    "@ : 폭탄\n",
    "_ : 빈칸\n",
    "% : 폭발\n",
    "'''\n",
    "\n",
    "N, M = map(int, input().split())\n",
    "b_range = int(input())\n",
    "field = [list(map(str, input())) for _ in range(N)]\n",
    "di = [0, 1, 0, -1] \n",
    "dj = [1, 0, -1, 0]  ## 중심을 기준으로 우, 하, 좌, 상\n",
    "\n",
    "print(field)\n",
    "\n",
    "for i in range(M):\n",
    "    for j in range(N):\n",
    "        obj = field[i][j]\n",
    "        if obj == '@':\n",
    "            for k in range(4):\n",
    "                for p in range(1, b_range): ## 상하좌우 한 칸이 아니고 m칸을 search\n",
    "                    \n",
    "                        ni = i + di[k]*p\n",
    "                        nj = j + dj[k]*p\n",
    "                        if field[ni][nj] == '#':\n",
    "                            continue\n",
    "                        field[ni][nj] = '%'\n",
    "                        obj = '%'\n",
    "                "
   ]
  },
  {
   "cell_type": "code",
   "execution_count": null,
   "metadata": {},
   "outputs": [],
   "source": [
    "'''\n",
    "첫 번째 줄부터 다섯 번째 줄까지 빙고판의 각 행의 숫자가 공백으로 구분되어 주어진다.\n",
    "여섯 번째 줄부터 열 번째 줄까지 사회자가 부르는 숫자가 순서대로 각 줄에 5개씩 공백으로 구분되어 주어진다.\n",
    "빙고판에 쓰여진 수와 사회자가 부르는 수는 각각 1부터 25까지의 숫자가 중복 없이 사용된다.\n",
    "\n",
    "출력\n",
    "첫 번째 줄에 사회자가 어떤 숫자를 불렀을 때 3선 빙고가 완성되는지를 출력한다.\n",
    "'''\n",
    "\n",
    "board = [int(num) for _ in range(5) for num in input().split()]\n",
    "call = [int(num) for _ in range(5) for num in input().split()]\n",
    "cnt = 0\n",
    "\n",
    "x_lst = [0] * 10\n",
    "y_lst = [0] * 10\n",
    "di_lst1 = [0] * 10\n",
    "di_lst2 = [0] * 10\n",
    "\n",
    "for n in call:\n",
    "\n",
    "    a = board.index(n)\n",
    "\n",
    "    x, y = a // 5, a % 5\n",
    "\n",
    "    x_lst[x] += 1\n",
    "    y_lst[y] += 1\n",
    "    di_lst1[x + y] += 1 # 우상좌하 대각선 칸 체크\n",
    "    di_lst2[y - x + 4] += 1 # 좌상우하 대각선 칸 체크\n",
    "\n",
    "    if x_lst[x] == 5:\n",
    "        cnt += 1\n",
    "    if y_lst[y] == 5:\n",
    "        cnt += 1\n",
    "    if di_lst1[x + y] == 5 or di_lst2[y - x + 4] == 5:\n",
    "        cnt += 1\n",
    "    \n",
    "    if cnt == 3:\n",
    "        print(n)\n",
    "        break"
   ]
  },
  {
   "cell_type": "code",
   "execution_count": null,
   "metadata": {},
   "outputs": [],
   "source": [
    "''' \n",
    "N x N 배열 안의 숫자는 해당 영역에 존재하는 파리의 개체 수를 의미한다.\n",
    "\n",
    "파리 킬러 스프레이를 한 번만 뿌려 최대한 많은 파리를 잡으려고 한다. 스프레이의 노즐이 + 형태로 되어있어, 스프레이는 + 혹은 x 형태로 분사된다. 스프레이를 M의 세기로 분사하면 노즐의 중심이 향한 칸부터 각 방향으로 M칸의 파리를 잡을 수 있다.\n",
    "다음은 M=3 세기로 스프레이르 분사한 경우 파리가 퇴치되는 칸의 예로, +또는 x 중 하나로 분사된다. 뿌려진 일부가 영역을 벗어나도 상관없다.\n",
    "\n",
    "\n",
    "한 번에 잡을 수 있는 최대 파리수를 출력하라.\n",
    "\n",
    "[제약 사항]\n",
    "\n",
    "1. N 은 5 이상 15 이하이다.\n",
    "2. M은 2 이상 N 이하이다.\n",
    "3. 각 영역의 파리 갯수는 30 이하 이다.\n",
    "\n",
    "[입력]\n",
    "\n",
    "가장 첫 줄에는 테스트 케이스의 개수 T가 주어지고, 그 아래로 각 테스트 케이스가 주어진다.\n",
    "각 테스트 케이스의 첫 번째 줄에 N 과 M 이 주어지고,\n",
    "다음 N 줄에 걸쳐 N x N 배열이 주어진다.\n",
    "\n",
    "'''\n",
    "def fly(lst, power):\n",
    "    direction1 = [(1, 0), (0, -1), (-1, 0), (0, 1)]\n",
    "    direction2 =[(1, 1), (1, -1), (-1, -1), (-1, 1)]\n",
    "    N = len(lst)\n",
    "    \n",
    "    answer = 0\n",
    "    for i in range(N):\n",
    "        for j in range(N):\n",
    "            total = lst[i][j]\n",
    "            for x, y in direction1:\n",
    "                for p in range(1, power+1):\n",
    "                    dx, dy = i + p*x, j + p*y\n",
    "                    if 0 <= dx < N and 0 <= dy < N:\n",
    "                        total += lst[dx][dy]\n",
    "                        if answer < total:\n",
    "                            answer = total\n",
    "            total2 = lst[i][j]\n",
    "            for x, y in direction2:\n",
    "                for p in range(1, power+1):\n",
    "                    dx, dy = i + p*x, j + p*y\n",
    "                    if 0 <= dx < N and 0 <= dy < N:\n",
    "                        total2 += lst[dx][dy]\n",
    "                        if answer < total2:\n",
    "                            answer = total2\n",
    "    return answer\n",
    "\n",
    "T = int(input())\n",
    "for tc in range(1, T+1):\n",
    "    N, M = map(int, input().split())\n",
    "    flies = [list(map(int, input().split())) for _ in range(N)]\n",
    "    answer = fly(flies, M)\n",
    "    print(f'#{tc} {answer}')\n",
    "                    \n"
   ]
  }
 ],
 "metadata": {
  "kernelspec": {
   "display_name": "Python 3",
   "language": "python",
   "name": "python3"
  },
  "language_info": {
   "codemirror_mode": {
    "name": "ipython",
    "version": 3
   },
   "file_extension": ".py",
   "mimetype": "text/x-python",
   "name": "python",
   "nbconvert_exporter": "python",
   "pygments_lexer": "ipython3",
   "version": "3.9.13"
  },
  "orig_nbformat": 4
 },
 "nbformat": 4,
 "nbformat_minor": 2
}
