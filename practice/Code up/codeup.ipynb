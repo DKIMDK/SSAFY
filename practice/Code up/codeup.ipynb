{
 "cells": [
  {
   "cell_type": "code",
   "execution_count": null,
   "metadata": {},
   "outputs": [],
   "source": [
    "f, l = input().split('-')\n",
    "print(f,l,sep='')"
   ]
  },
  {
   "cell_type": "code",
   "execution_count": null,
   "metadata": {},
   "outputs": [],
   "source": [
    "yymmdd = input()\n",
    "print(yymmdd[:1+1])\n",
    "print(yymmdd[2:3+1])\n",
    "print(yymmdd[4:])"
   ]
  },
  {
   "cell_type": "code",
   "execution_count": null,
   "metadata": {},
   "outputs": [],
   "source": [
    "a, b = input().split()\n",
    "a=int(a)\n",
    "b=int(b)\n",
    "\n",
    "print(a+b)"
   ]
  },
  {
   "cell_type": "code",
   "execution_count": null,
   "metadata": {},
   "outputs": [],
   "source": [
    "a = int(input(), 16)\n",
    "print('%o'%a)"
   ]
  },
  {
   "cell_type": "code",
   "execution_count": null,
   "metadata": {},
   "outputs": [],
   "source": [
    "print(-(int(input())))"
   ]
  },
  {
   "cell_type": "code",
   "execution_count": null,
   "metadata": {},
   "outputs": [],
   "source": [
    "a = ord(input())\n",
    "print(a)"
   ]
  },
  {
   "cell_type": "code",
   "execution_count": null,
   "metadata": {},
   "outputs": [],
   "source": [
    "a, b = input().split()\n",
    "a = int(a)\n",
    "b = int(b)\n",
    "print(a+b)\n",
    "print(a-b)\n",
    "print(a*b)\n",
    "print(a//b)\n",
    "print(format(a%b,'.2f'))\n",
    "print(a/b, '.2f')"
   ]
  },
  {
   "cell_type": "code",
   "execution_count": null,
   "metadata": {},
   "outputs": [],
   "source": [
    "intlist = input().split()\n",
    "intlist = [int(element) for element in intlist]\n",
    "print(sum(intlist), format(sum(intlist)/len(intlist), '.2f'))"
   ]
  },
  {
   "cell_type": "code",
   "execution_count": null,
   "metadata": {},
   "outputs": [],
   "source": [
    "a, b = map(int, input().split())\n",
    "print(a<<b)"
   ]
  },
  {
   "cell_type": "code",
   "execution_count": null,
   "metadata": {},
   "outputs": [],
   "source": [
    "a, b = map(int, input().split())\n",
    "\n",
    "if a > b: print(False)\n",
    "else: print(True)"
   ]
  },
  {
   "cell_type": "code",
   "execution_count": null,
   "metadata": {},
   "outputs": [],
   "source": [
    "def disc(a,b):\n",
    "    if a<=b: return True\n",
    "    else: return False\n",
    "a, b = map(int, input().split())\n",
    "print(disc(a,b))\n"
   ]
  },
  {
   "cell_type": "code",
   "execution_count": null,
   "metadata": {},
   "outputs": [],
   "source": [
    "def aand(a, b):\n",
    "    if bool(a) and bool(b): return True\n",
    "    else: return False\n",
    "a, b = map(int, input().split())\n",
    "print(aand(a,b))"
   ]
  },
  {
   "cell_type": "code",
   "execution_count": null,
   "metadata": {},
   "outputs": [],
   "source": [
    "def oor(a, b):\n",
    "    if bool(not a) and bool(not b): return False\n",
    "    else: return True\n",
    "a, b = map(int, input().split())\n",
    "print(oor(a,b))"
   ]
  },
  {
   "cell_type": "code",
   "execution_count": null,
   "metadata": {},
   "outputs": [],
   "source": [
    "def xor(a, b):\n",
    "    if bool(a) + bool(b) == 1: return True\n",
    "    else: return False\n",
    "a, b = map(int, input().split())\n",
    "print(xor(a,b))"
   ]
  },
  {
   "cell_type": "code",
   "execution_count": null,
   "metadata": {},
   "outputs": [],
   "source": [
    "a = int(input())\n",
    "\n",
    "print(~a)"
   ]
  },
  {
   "cell_type": "code",
   "execution_count": null,
   "metadata": {},
   "outputs": [],
   "source": [
    "a, b = map(int, input().split())\n",
    "print(a&b)"
   ]
  },
  {
   "cell_type": "code",
   "execution_count": null,
   "metadata": {},
   "outputs": [],
   "source": [
    "intlist = input().split()\n",
    "\n",
    "for i in intlist:\n",
    "    i = int(i)\n",
    "    if i%2 == 0:\n",
    "        print(i)\n",
    "\n"
   ]
  },
  {
   "cell_type": "code",
   "execution_count": null,
   "metadata": {},
   "outputs": [],
   "source": [
    "alp = str(input())\n",
    "\n",
    "def resp(s):\n",
    "    if s == 'A': return \"best!!!\"\n",
    "    elif s == 'B': return \"good!!!\"\n",
    "    elif s == 'C': return \"run!\"\n",
    "    elif s == 'D': return \"slowly~\"\n",
    "    else: return \"what?\"\n",
    "    \n",
    "print(resp(alp))\n"
   ]
  },
  {
   "cell_type": "code",
   "execution_count": null,
   "metadata": {},
   "outputs": [],
   "source": [
    "n = int(input())\n",
    "def countdown(k):\n",
    "    while k>0:\n",
    "        print(k)\n",
    "        k -= 1\n",
    "countdown(n)\n"
   ]
  },
  {
   "cell_type": "code",
   "execution_count": null,
   "metadata": {},
   "outputs": [],
   "source": [
    "def countdown(k):\n",
    "    while k >= 0:\n",
    "        print(k)\n",
    "        k -= 1\n",
    "\n",
    "k = int(input())\n",
    "countdown(k)"
   ]
  },
  {
   "cell_type": "code",
   "execution_count": null,
   "metadata": {},
   "outputs": [],
   "source": [
    "char = ord(input())\n",
    "\n",
    "start = ord('a')\n",
    "while start <= char:\n",
    "    print(chr(start), end =' ')\n",
    "    start += 1"
   ]
  },
  {
   "cell_type": "code",
   "execution_count": null,
   "metadata": {},
   "outputs": [],
   "source": [
    "c = 'c'\n",
    "while c != 'q':\n",
    "    c = input()\n",
    "    print(c)"
   ]
  },
  {
   "cell_type": "code",
   "execution_count": null,
   "metadata": {},
   "outputs": [],
   "source": [
    "a = int(input())\n",
    "s = 0\n",
    "for i in range(a):\n",
    "    s = s + i\n",
    "    if s >= a: break\n",
    "print(i)    "
   ]
  },
  {
   "cell_type": "code",
   "execution_count": null,
   "metadata": {},
   "outputs": [],
   "source": [
    "n, m = map(int, input().split())\n",
    "\n",
    "for i in range(1, n+1):\n",
    "    for j in range(1, m+1):\n",
    "    \n",
    "        print(i, j)\n"
   ]
  },
  {
   "cell_type": "code",
   "execution_count": null,
   "metadata": {},
   "outputs": [],
   "source": [
    "n = int(input(), 16)\n",
    "for i in range(1,16+1):\n",
    "    print('%X'%n, '*%X'%i, '=%X'%(n*i), sep = '')"
   ]
  },
  {
   "cell_type": "code",
   "execution_count": null,
   "metadata": {},
   "outputs": [],
   "source": [
    "def findmed(lst):\n",
    "    srtlst = sorted(lst)\n",
    "    lenlst = len(srtlst)\n",
    "    if lenlst % 2 == 1:\n",
    "        return srtlst[(int((lenlst/2)//1))]\n",
    "    elif lenlst % 2 == 0:\n",
    "        return (srtlst[int(lenlst/2)]+srtlst[int((lenlst/2) -1)])/2\n",
    "\n",
    "test = [5, 32, 12, 321, 125, 1212, 6, 78892]\n",
    "print(findmed(test))"
   ]
  },
  {
   "cell_type": "code",
   "execution_count": null,
   "metadata": {},
   "outputs": [],
   "source": [
    "## SW EXpert Academy\n",
    "def findmed(lst):\n",
    "    srtlst = sorted(lst)\n",
    "    lenlst = len(srtlst)\n",
    "    if lenlst % 2 == 1:\n",
    "        return srtlst[(int((lenlst/2)//1))]\n",
    "    elif lenlst % 2 == 0:\n",
    "        return (srtlst[int(lenlst/2)]+srtlst[int((lenlst/2) -1)])/2\n",
    "\n",
    "tcs = input()\n",
    "intlist = input().split()\n",
    "for i in range(len(intlist)):\n",
    "    intlist[i] = int(intlist[i])\n",
    "answer = findmed(intlist)\n",
    "print(answer)"
   ]
  },
  {
   "cell_type": "code",
   "execution_count": null,
   "metadata": {},
   "outputs": [],
   "source": [
    "height = 170\n",
    "weight = 68.6\n",
    "print(f'My height/n{height}\\nMy weight\\n{weight}')"
   ]
  },
  {
   "cell_type": "code",
   "execution_count": null,
   "metadata": {},
   "outputs": [],
   "source": [
    "n = int(input(),16)\n",
    "for i in range(1,16+1):\n",
    "    print('%X'%n, '*%X'%i, '=%X'%(n*i), sep='')"
   ]
  },
  {
   "cell_type": "code",
   "execution_count": null,
   "metadata": {},
   "outputs": [],
   "source": [
    "print('6 + 2 =', 6+2)\n",
    "print('6 - 2 =', 6-2)\n",
    "print('6 * 2 =', 6*2)\n",
    "print('6 + 2 =', 6/2)"
   ]
  },
  {
   "cell_type": "code",
   "execution_count": null,
   "metadata": {},
   "outputs": [],
   "source": [
    "for _ in range(2):\n",
    "    for i in range(10):\n",
    "        if i == 9:\n",
    "            print('T')\n",
    "        else:\n",
    "            print('T', end ='')\n",
    "for i in range(3):\n",
    "    print('    TT')"
   ]
  },
  {
   "cell_type": "code",
   "execution_count": null,
   "metadata": {},
   "outputs": [],
   "source": [
    "string = '문자열'\n",
    "integer = 10\n",
    "floating_point = 3.14\n",
    "a_list = [1, 2, 3, 4, 5]\n",
    "dictionary = {'name': '홍길동', 'age': 20}\n",
    "a_set = {1, 2, 3, 4, 5}\n",
    "a_range = range(11)\n",
    "a_tuple = (1, 2, 3)\n",
    "boolean = True\n",
    "\n",
    "print(type(string)) \n",
    "print(type(integer))\n",
    "print(type(floating_point))\n",
    "print(type(a_list))\n",
    "print(type(dictionary))\n",
    "print(type(a_set))\n",
    "print(type(a_range))\n",
    "print(type(a_tuple))\n",
    "print(type(boolean))\n"
   ]
  },
  {
   "cell_type": "code",
   "execution_count": null,
   "metadata": {},
   "outputs": [],
   "source": [
    "twinkle = '반짝 반짝'\n",
    "at = '에서도'\n",
    "star = '작은별'\n",
    "glit = '아름답게 비치네'\n",
    "east = '동쪽 하늘'\n",
    "west = '서쪽 하늘'\n",
    "print(twinkle, star, glit)\n",
    "print(east, at, ' ', west, at, sep = '')\n",
    "print(twinkle, star, glit)\n"
   ]
  },
  {
   "cell_type": "code",
   "execution_count": null,
   "metadata": {},
   "outputs": [],
   "source": [
    "# ws_1_1.py\n",
    "name = '홍길동'\n",
    "age = 20\n",
    "n_tag = '이름 : '\n",
    "a_tag = '나이 : '\n",
    "intro = '학생 정보를 출력합니다.'\n",
    "bridge = '각각의 정보는 다음과 같습니다'\n",
    "outro = '출력 완료'\n",
    "\n",
    "print(intro)\n",
    "print(bridge)\n",
    "print(n_tag, name)\n",
    "print(a_tag, age)\n",
    "print(outro)\n"
   ]
  },
  {
   "cell_type": "code",
   "execution_count": null,
   "metadata": {},
   "outputs": [],
   "source": [
    "# ws_1_2.py\n",
    "\n",
    "string = '문자열'\n",
    "integer = 10\n",
    "floating_point = 3.14\n",
    "a_list = [1, 2, 3, 4, 5]\n",
    "dictionary = {'name': '홍길동', 'age': 20}\n",
    "a_set = {1, 2, 3, 4, 5}\n",
    "a_range = range(11)\n",
    "a_tuple = (1, 2, 3)\n",
    "boolean = True\n",
    "\n",
    "print(type(string))\n",
    "print(type(integer))\n",
    "print(type(floating_point))\n",
    "print(type(a_list))\n",
    "print(type(dictionary))\n",
    "print(type(a_set))\n",
    "print(type(a_range))\n",
    "print(type(a_tuple))\n",
    "print(type(boolean))\n"
   ]
  },
  {
   "cell_type": "code",
   "execution_count": null,
   "metadata": {},
   "outputs": [],
   "source": [
    "# 원주율\n",
    "pi = 3.1415926535897932384626433832795028841971693993751058209749445923078164062862089986280348253421170679\n",
    "# 반지름\n",
    "r = 15\n",
    "\n",
    "print(f'원주율 : {pi}')\n",
    "print(f'반지름 : {r}')\n",
    "print(f'원의 둘레 : {2*pi*r}')\n",
    "print(f'원의 넓이 : {pi*(r**2)}')"
   ]
  },
  {
   "cell_type": "code",
   "execution_count": null,
   "metadata": {},
   "outputs": [],
   "source": [
    "print(3*2)\n",
    "print(3**2)\n",
    "print((3**2)//(3*2), (3**2)%(3*2))\n",
    "print(3**2 + (-3)**2)\n",
    "\n",
    "sqr = 3**2\n",
    "dbl = 3*2\n",
    "msqr = (-3)**2\n",
    "\n",
    "print(dbl)\n",
    "print(sqr)\n",
    "print((sqr)//(dbl), (sqr)%(dbl))\n",
    "print(sqr + msqr)"
   ]
  },
  {
   "cell_type": "code",
   "execution_count": null,
   "metadata": {},
   "outputs": [],
   "source": [
    "word = 'Hello, Wolrd!'\n",
    "\n",
    "print(word)  ##\n"
   ]
  },
  {
   "cell_type": "code",
   "execution_count": null,
   "metadata": {},
   "outputs": [],
   "source": [
    "# hw_1_4.py\n",
    "# 사과는 영어로 apple\n",
    "apple_kr = '사과'\n",
    "apple = 'apple'\n",
    "# 바나나는 영어로 banana\n",
    "banana_kr = '바나나'\n",
    "banana = 'banana'\n",
    "# 키위는 영어로 kiwi\n",
    "kiwi_kr = '키위'\n",
    "kiwi = 'kiwi'\n",
    "\n",
    "equals_to = '는'\n",
    "in_eng = '영어로'\n",
    "print(apple_kr,equals_to,' ',in_eng,' ',apple, sep ='')\n",
    "print(banana_kr,equals_to,' ',in_eng,' ',banana, sep ='')\n",
    "print(kiwi_kr,equals_to,' ',in_eng,' ',kiwi, sep ='')"
   ]
  },
  {
   "cell_type": "code",
   "execution_count": null,
   "metadata": {},
   "outputs": [],
   "source": [
    "a = 10\n",
    "b = 20\n",
    "print(a,'+', b, '=', a+b)"
   ]
  },
  {
   "cell_type": "code",
   "execution_count": null,
   "metadata": {},
   "outputs": [],
   "source": [
    "pi = 3.14\n",
    "r = 5\n",
    "cfr = round(2*pi*r,1)\n",
    "area = round(pi*r**2,1)\n",
    "cfr"
   ]
  },
  {
   "cell_type": "code",
   "execution_count": null,
   "metadata": {},
   "outputs": [],
   "source": [
    "pi = 3.14\n",
    "r = 5\n",
    "cfr = round(2*pi*r,1)\n",
    "area = round(pi*r**2,1)\n",
    "print('원주 =', r, '* 2 *',pi, '=', cfr)\n",
    "print('넓이 =', r, '*', r, '*',pi, '=', cfr)"
   ]
  },
  {
   "cell_type": "code",
   "execution_count": null,
   "metadata": {},
   "outputs": [],
   "source": [
    "pi = 3.14\n",
    "r = 5\n",
    "cfr = format(2*pi*r,\".1f\")\n",
    "area = pi*r**2\n",
    "print('원주 =', r, '* 2 *',pi, '=', cfr)\n",
    "print('넓이 =', r, '*', r, '*',pi, '=', area)"
   ]
  },
  {
   "cell_type": "code",
   "execution_count": null,
   "metadata": {},
   "outputs": [],
   "source": [
    "def sequences(a, m, d, n):\n",
    "    for i in range(n-1):\n",
    "        k = a*m + d\n",
    "        a = k\n",
    "    return k\n",
    "\n",
    "a, m, d, n = map(int, input().split())\n",
    "sequences(a, m, d, n)\n",
    "\n"
   ]
  },
  {
   "cell_type": "code",
   "execution_count": null,
   "metadata": {},
   "outputs": [],
   "source": [
    "def tsn(n):\n",
    "    for i in range(1, n+1) :\n",
    "        if (i//10 == 3 or i//10 == 6 or i//10 == 9) and (i%10 == 3 or i%10 == 6 or i%10 == 9):\n",
    "            print(\"XX\", end= ' ')\n",
    "        elif i//10 == 3 or i//10 == 6 or i//10 == 9:\n",
    "            print(\"X\", end= ' ')\n",
    "        elif i%10 == 3 or i%10 == 6 or i%10 == 9 :\n",
    "            print(\"X\", end= ' ')\n",
    "\n",
    "        else: print(i, end = ' ')\n",
    "\n",
    "n = int(input())\n",
    "tsn(n)"
   ]
  },
  {
   "cell_type": "code",
   "execution_count": null,
   "metadata": {},
   "outputs": [],
   "source": [
    "def tsn(n):\n",
    "    for i in range(1, n + 1):\n",
    "        if any(x in str(i) for x in ['3', '6', '9']):\n",
    "            print(\"X\" * str(i).count('3') + \"X\" * str(i).count('6') + \"X\" * str(i).count('9'), end=' ')\n",
    "        else:\n",
    "            print(i, end=' ')\n",
    "\n",
    "n = int(input())\n",
    "tsn(n)"
   ]
  },
  {
   "cell_type": "code",
   "execution_count": null,
   "metadata": {},
   "outputs": [],
   "source": [
    "print(\"다음은 이형기 시인의 \\\"낙화\\\"의 한 구절이다.\\n-1연\\n\\t가야할 때 언제인가를\\n\\t분명히 알고 가는 이의\\n\\t뒷모습은 얼마나 아름다운가.\\n\\n나는 이 시를 보며 '나는 내가 가야할 때가 언제일까?' 를 생각해 보았다.\")"
   ]
  },
  {
   "cell_type": "code",
   "execution_count": null,
   "metadata": {},
   "outputs": [],
   "source": [
    "author_1 = '권필'\n",
    "author_2 = '허균'\n",
    "book_1 = '주생전'\n",
    "book_2 = '홍길동전'\n",
    "print(f'{book_1}의 작가는 {author_1}이고,\\n{author_2}은 {book_2}를 집필하였다.')"
   ]
  },
  {
   "cell_type": "code",
   "execution_count": null,
   "metadata": {},
   "outputs": [],
   "source": [
    "books = ['광문자전', '유연전', '심청전', '홍길동전', '수성지']\n",
    "authors = ['작자 미상', '허균', '박지원', '이항복', '임제']\n",
    "\n",
    "print(f'{authors[1]} : {books[3]}')\n",
    "print(f'{authors[3]} : {books[1]}')\n",
    "print(f'{authors[0]} : {books[2]}')\n",
    "print(f'{authors[2]} : {books[0]}')\n",
    "print(f'{authors[4]} : {books[4]}')"
   ]
  },
  {
   "cell_type": "code",
   "execution_count": null,
   "metadata": {},
   "outputs": [],
   "source": [
    "information = dict()\n",
    "authors = ['김시습', '허균', '남영로', '작자 미상', '임제', '박지원']\n",
    "books = [\n",
    "    ['장화홍련전', '가락국 신화', '온달 설화'],\n",
    "    ['금오신화', '이생규장전', '만복자서포기'],\n",
    "    ['수성지', '백호집', '원생몽유록'],\n",
    "    ['홍길동전', '장생전', '도문대작'],\n",
    "    ['옥루몽', '옥련몽'],\n",
    "]\n",
    "\n",
    "'''\n",
    "- 작가와 작품 목록 참고\n",
    "- 허균 : 홍길동전, 장생전, 도문대작\n",
    "- 임제 : 수성지, 백호집, 원생몽유록\n",
    "- 작자 미상 : 장화홍련전, 가락국 신화, 온달 설화\n",
    "'''\n",
    "\n",
    "information[authors[0]] = books[1]\n",
    "information[authors[1]] = books[3]\n",
    "information[authors[2]] = books[4]\n",
    "information[authors[3]] = books[0]\n",
    "information[authors[4]] = books[2]\n",
    "\n",
    "\n",
    "for k, v in information.items():\n",
    "    print(k, ':', v)\n"
   ]
  },
  {
   "cell_type": "code",
   "execution_count": null,
   "metadata": {},
   "outputs": [],
   "source": [
    "catalog = [\n",
    "    ['시간의 틈', '반짝임의 어둠', '망각의 경계'], \n",
    "    ['연기의 수수께끼', '장면의 고백', '드라마의 그림자'], \n",
    "    ['황금의 칼날', '비열한 간신', '무명의 영웅'], \n",
    "    ['성공의 열쇠', '내면의 변화', '목표의 달성']\n",
    "]\n",
    "\n",
    "backup_catalog = catalog\n",
    "\n",
    "''' \n",
    "도서 제목 '성공의 열쇠', '내면의 변화', '목표의 달성' 을 각각\n",
    "'성공을 향한 한 걸음', '내 삶의 변화', '목표 달성의 비밀' 가 되도록 변경하시오.\n",
    "'''\n",
    "\n",
    "catalog[3][0] = '성공을 향한 한 걸음'\n",
    "catalog[3][1] = '내 삶의 변화'\n",
    "catalog[3][2] = '목표 달성의 비밀'\n",
    "\n",
    "print(catalog[3])\n",
    "\n",
    "print('catalog와 backup_catalog를 비교한 결과')\n",
    "# 식별 연산자로 catalog와 backup_catalog를 비교한 결과를 출력하시오. \n",
    "print(backup_catalog == catalog)\n",
    "\n",
    "print('backup_catalog : ')\n",
    "print(backup_catalog)\n",
    "print()\n",
    "\n",
    "print('catalog : ')\n",
    "print(catalog)\n",
    "\n"
   ]
  },
  {
   "cell_type": "code",
   "execution_count": null,
   "metadata": {},
   "outputs": [],
   "source": [
    "catalog = [\n",
    "    ['시간의 틈', '반짝임의 어둠', '망각의 경계'], \n",
    "    ['연기의 수수께끼', '장면의 고백', '드라마의 그림자'], \n",
    "    ['황금의 칼날', '비열한 간신', '무명의 영웅'], \n",
    "    ['성공의 열쇠', '내면의 변화', '목표의 달성']\n",
    "]\n",
    "\n",
    "backup_catalog = [subcatalog[:] for subcatalog in catalog]\n",
    "\n",
    "''' \n",
    "도서 제목 '성공의 열쇠', '내면의 변화', '목표의 달성' 을 각각\n",
    "'성공을 향한 한 걸음', '내 삶의 변화', '목표 달성의 비밀' 가 되도록 변경하시오.\n",
    "'''\n",
    "catalog[3][0] = '성공을 향한 한 걸음'\n",
    "catalog[3][1] = '내 삶의 변화'\n",
    "catalog[3][2] = '목표 달성의 비밀'\n",
    "\n",
    "print('catalog와 backup_catalog를 비교한 결과')\n",
    "# 식별 연산자로 catalog와 backup_catalog를 비교한 결과를 출력하시오. \n",
    "print(catalog == backup_catalog)\n",
    "\n",
    "print('backup_catalog : ')\n",
    "print(backup_catalog)\n",
    "print()\n",
    "\n",
    "print('catalog : ')\n",
    "print(catalog)\n",
    "\n"
   ]
  },
  {
   "cell_type": "code",
   "execution_count": null,
   "metadata": {},
   "outputs": [],
   "source": [
    "book = '1'\n",
    "total = 10\n",
    "guide = '현재 보유 중인 총 책의 수는 다음과 같습니다.'\n",
    "print(guide)\n",
    "print(int(book) * total)\n",
    "\n",
    "changes = '그 중, 대여중인 책을 제외한 책의 수는 다음과 같습니다.'\n",
    "rental = 3.0\n",
    "print(changes)\n",
    "print(total - int(rental))\n"
   ]
  },
  {
   "cell_type": "code",
   "execution_count": null,
   "metadata": {},
   "outputs": [],
   "source": [
    "authors = ['작자 미상', '이항복', '임제', '임제', \n",
    "           '조성기', '조성기', '조성기', '임제', \n",
    "           '허균', '허균', '허균', '임제', '임제', \n",
    "           '임제', '임제', '임제', '임제', '임제', \n",
    "           '임제', '임제', '임제', '박지원', '이항복', \n",
    "           '남영로', '남영로', '남영로', '이항복', '임제', '임제']\n",
    "\n",
    "print(list(set(authors)))"
   ]
  },
  {
   "cell_type": "code",
   "execution_count": null,
   "metadata": {},
   "outputs": [],
   "source": [
    "def asc(r, g, b):\n",
    "    for k in range(r):\n",
    "       \n",
    "        for j in range (g):\n",
    "            \n",
    "            for i in range (b):\n",
    "                print(k, j, i)\n",
    "    print(r*g*b)\n",
    "\n",
    "asc(2,2,2)"
   ]
  },
  {
   "cell_type": "code",
   "execution_count": null,
   "metadata": {},
   "outputs": [],
   "source": [
    "def mb(h, b, c, s):\n",
    "    storage = f'{(h*b*c*s/8/1024/1024):.1f}'\n",
    "    output = f'{storage} MB'\n",
    "    return output\n",
    "    \n",
    "h, b, c, s = map(int, input().split())\n",
    "print(mb(h, b, c, s))"
   ]
  },
  {
   "cell_type": "code",
   "execution_count": null,
   "metadata": {},
   "outputs": [],
   "source": [
    "def sad(n):\n",
    "    for i in range(1, n+1) :\n",
    "        if i%3==0: continue            \n",
    "        print(i, end=' ')\n",
    "\n",
    "n = int(input())\n",
    "sad(n)"
   ]
  },
  {
   "cell_type": "code",
   "execution_count": null,
   "metadata": {},
   "outputs": [],
   "source": [
    "def ap(a, r, n):\n",
    "    answer = r**(n-1) * a\n",
    "    return answer\n",
    "\n",
    "a, r, n = map(int, input().split())\n",
    "ans = ap(a,r,n)\n",
    "print(ans)"
   ]
  },
  {
   "cell_type": "code",
   "execution_count": null,
   "metadata": {},
   "outputs": [],
   "source": [
    "# book.py\n",
    "number_of_book = 100\n",
    "\n",
    "def decrease_book(number):\n",
    "    '''\n",
    "    도서관의 전체 책 권수를 global에서 불러옵니다\n",
    "    이용자가 책을 number권 빌려갈 때마다 현재 도서관 내 권 수를 출력합니다.\n",
    "    '''\n",
    "    global number_of_book\n",
    "    number_of_book -= number\n",
    "    print(f'남은 책의 수 : {number_of_book}')\n",
    "    \n"
   ]
  },
  {
   "cell_type": "code",
   "execution_count": null,
   "metadata": {},
   "outputs": [],
   "source": [
    "number_of_people = 0\n",
    "\n",
    "def increase_user():\n",
    "    '''\n",
    "    이용자 수가 늘 때마다 count +1 하는 함수입니다.\n",
    "    '''\n",
    "    global number_of_people\n",
    "    number_of_people += 1\n",
    "\n",
    "def create_user(name, age, address):\n",
    "    '''\n",
    "    이용자의 이름, 연령, 주소를 받아 dictionary에 저장하고\n",
    "    환영 인사를 출력하는 함수입니다.\n",
    "    '''\n",
    "    user_info = {}\n",
    "    user_info['name'] = name\n",
    "    user_info['age'] = age\n",
    "    user_info['address'] = address\n",
    "    increase_user()\n",
    "    print(f'{name}님 환영합니다!')\n",
    "    return user_info\n",
    "\n",
    "# ws_3_3.py\n",
    "def rental_book(info):\n",
    "    '''\n",
    "    이름을 key로, 연령을 value로 가지는 dictionary를 인자로 받아서\n",
    "    연령의 10의 자리수를 빌려간 권 수로 하여 이용자의 이름과 대여 권수를\n",
    "    출력하는 함수입니다.\n",
    "    '''\n",
    "    # info = {'김시습' : 32 ,  etc..}\n",
    "    for name, age in info.items():\n",
    "        number = age // 10\n",
    "        decrease_book(number) # age: int, info[name]값\n",
    "        print(f'{name}님이 {number}권의 책을 대여하였습니다.')\n",
    "\n",
    "\n",
    "name = ['김시습', '허균', '남영로', '임제', '박지원']\n",
    "age = [20, 16, 52, 36, 60]\n",
    "address = ['서울', '강릉', '조선', '나주', '한성부']\n",
    "\n",
    "many_user = list(map(create_user, name, age, address))\n",
    "# create_user 함수에 name, age, address 각 list를 돌면서 인자 할당.\n",
    "# dictionary들을 5개 만든 후 map type을 list로 변환, list 안에는 dict가 5개\n",
    "info = dict(map(lambda dictionary : (str(dictionary['name']), int(dictionary['age'])),\n",
    "                 many_user))\n",
    "## 위에서 만든 many_user에서 name과 age만 가져와 mapping하는 함수를 람다로 표현\n",
    "## name을 key로, age를 value로 하는 하나의 dictionary 생성 \n",
    "# function : {'name' : 홍길동, 'age' : 20, 'address' : '서울'}\n",
    "#            {'name' : 피카츄, 'age' : 255, 'address' : '뉴욕'}\n",
    "# 에서 {'홍길동' : 20, '피카츄' : 255}을 가져오는 함수\n",
    "# def name_age(dictionary):\n",
    "#   dictionary2 = {dictionary['name'] : dictionary['age'] }\n",
    "#   return dictionary2\n",
    "## \n",
    "print(info)\n",
    "# rental_book(info)"
   ]
  },
  {
   "cell_type": "code",
   "execution_count": null,
   "metadata": {},
   "outputs": [],
   "source": [
    "print(info)"
   ]
  },
  {
   "cell_type": "code",
   "execution_count": null,
   "metadata": {},
   "outputs": [],
   "source": [
    "my_dict = {\n",
    "    'a1' : {'b1' : 1, 'b2': 2, 'b3' : 3},\n",
    "    'a2' : {'b1' : 4, 'b2': 5, 'b3' : 6},\n",
    "    'a3' : {'b1' : 7, 'b2': 8, 'b3' : 9},\n",
    "}\n",
    "# value 5를 출력\n",
    "my_dict['a2']['b2']\n"
   ]
  },
  {
   "cell_type": "code",
   "execution_count": null,
   "metadata": {},
   "outputs": [],
   "source": [
    "import random\n",
    "\n",
    "set_1 = set()\n",
    "while len(set_1) != 6:\n",
    "    number = random.randint(1, 45)\n",
    "    set_1.add(number)\n",
    "list_1 = list(set_1)\n",
    "list_1.sort()\n",
    "print(list_1)\n"
   ]
  },
  {
   "cell_type": "code",
   "execution_count": null,
   "metadata": {},
   "outputs": [],
   "source": [
    "# 아래 함수를 수정하시오.\n",
    "def add_numbers(a, b):\n",
    "    answer = a + b\n",
    "    return answer\n",
    "\n",
    "\n",
    "#수정한 add_numbers() 함수를 호출하시오.\n",
    "print('3과 5를 인자로 넘긴 경우,')\n",
    "print(add_numbers(3, 5))"
   ]
  },
  {
   "cell_type": "code",
   "execution_count": null,
   "metadata": {},
   "outputs": [],
   "source": [
    "vowels = 'aeiou'\n",
    "\n",
    "print(('a' and 'b') in vowels)\n",
    "print(('b' and 'a') in vowels)\n",
    "\n",
    "print(3 and 5)\n",
    "print(3 and 0)\n",
    "print(0 and 3)\n",
    "print(0 and 0)\n",
    "\n",
    "print(5 or 3)\n",
    "print(3 or 0)\n",
    "print(0 or 3)\n",
    "print(0 or 0)"
   ]
  },
  {
   "cell_type": "code",
   "execution_count": null,
   "metadata": {},
   "outputs": [],
   "source": [
    "# 1. 절댓값을 반환하는 함수 abs를 사용하여 아래 변수에 담긴 값의 절댓값을 출력하시오.\n",
    "negative = -3\n",
    "print(abs(negative))\n",
    "\n",
    "# 2. 아래 변수에 담긴 값의 boolean 값을 출력하시오.\n",
    "empty_list = []\n",
    "print(bool(empty_list))\n",
    "\n",
    "\n",
    "# 3. 주어진 리스트가 가진 모든 값을 더한 결과를 출력하시오.\n",
    "my_list = [1, 2, 3, 4, 5]\n",
    "print(sum(my_list))\n",
    "\n",
    "# 4. 주어진 정렬을 오름차순으로 정렬한 결과를 출력하시오.\n",
    "unsorted_list = ['하', '교', '캅', '의', '지', '가']\n",
    "print(sorted(unsorted_list))\n"
   ]
  },
  {
   "cell_type": "code",
   "execution_count": null,
   "metadata": {},
   "outputs": [],
   "source": [
    "# codeup 91\n",
    "a, b, c = map(int, input().split())\n",
    "d = 1\n",
    "while d%a!=0 or d%b!=0 or d%c!=0 :\n",
    "  d += 1\n",
    "print(d)"
   ]
  },
  {
   "cell_type": "code",
   "execution_count": null,
   "metadata": {},
   "outputs": [],
   "source": [
    "# codeup 92\n",
    "n = int(input())      #개수를 입력받아 n에 정수로 저장\n",
    "a = input().split()  #공백을 기준으로 잘라 a에 순서대로 저장\n",
    "\n",
    "for i in range(n) :  #0부터 n-1까지...\n",
    "  a[i] = int(a[i])       #a에 순서대로 저장되어있는 각 값을 정수로 변환해 다시 저장\n",
    "\n",
    "d = []                     #d라는 이름의 빈 리스트 [ ] 변수를 만듦. 대괄호 기호 [  ] 를 사용한다.\n",
    "for i in range(24) :  #[0, 0, 0, ... , 0, 0, 0] 과 같이 24개의 정수 값 0을 추가해 넣음\n",
    "  d.append(0)        #각 값은 d[0], d[1], d[2], ... , d[22], d[23] 으로 값을 읽고 저장할 수 있음.\n",
    "\n",
    "for i in range(n) :    #번호를 부를 때마다, 그 번호에 대한 카운트 1씩 증가\n",
    "  d[a[i]] += 1\n",
    "\n",
    "for i in range(1, 24) :  #카운트한 값을 공백을 두고 출력\n",
    "  print(d[i], end=' ')"
   ]
  },
  {
   "cell_type": "code",
   "execution_count": null,
   "metadata": {},
   "outputs": [],
   "source": [
    "def total(num1, num2):\n",
    "    return num1 + num2\n",
    "\n",
    "def total2():\n",
    "    num1 = 5\n",
    "    num2 = 3\n",
    "    return num1+num2\n",
    "\n",
    "print(total2())\n",
    "\n",
    "def total3(num1, num2):\n",
    "    print(num1 + num2)\n",
    "\n",
    "total(5, 3)"
   ]
  },
  {
   "cell_type": "code",
   "execution_count": null,
   "metadata": {},
   "outputs": [],
   "source": [
    "#codeup 93\n",
    "n = int(input())\n",
    "a = list(map(int,input().split()))\n",
    "\n",
    "for i in range(n-1, -1, -1):\n",
    "    print(a[i], end = ' ')"
   ]
  },
  {
   "cell_type": "code",
   "execution_count": null,
   "metadata": {},
   "outputs": [],
   "source": [
    "a, b, c = 1, 2, 3\n",
    "def enclosed():\n",
    "    a, b, c = 4, 5, 6\n",
    "    def local(c):\n",
    "        print(a,b,c)\n",
    "    local(500)\n",
    "    print(a,b,c)\n",
    "\n",
    "enclosed()\n",
    "print(a,b,c)"
   ]
  },
  {
   "cell_type": "code",
   "execution_count": null,
   "metadata": {},
   "outputs": [],
   "source": [
    "def facto(n):\n",
    "    if n == 0:\n",
    "        return 1\n",
    "\n",
    "    \n",
    "    return n*facto(n-1)\n",
    "\n",
    "print(facto(5))\n",
    "    "
   ]
  },
  {
   "cell_type": "code",
   "execution_count": null,
   "metadata": {},
   "outputs": [],
   "source": [
    "numbers = [1,2,3,4,5]\n",
    "\n",
    "squared_numbers = list(map(lambda x : x**2, numbers))\n",
    "print(squared_numbers)"
   ]
  },
  {
   "cell_type": "code",
   "execution_count": null,
   "metadata": {},
   "outputs": [],
   "source": [
    "n = int(input())\n",
    "a = list(map(int,input().split()))\n",
    "\n",
    "answer = a[0]\n",
    "for i in range(1,len(a)):\n",
    "    if a[i] < answer:\n",
    "        answer = a[i]\n",
    "print(answer)"
   ]
  },
  {
   "cell_type": "code",
   "execution_count": null,
   "metadata": {},
   "outputs": [],
   "source": []
  },
  {
   "cell_type": "code",
   "execution_count": null,
   "metadata": {},
   "outputs": [],
   "source": []
  },
  {
   "cell_type": "code",
   "execution_count": null,
   "metadata": {},
   "outputs": [],
   "source": [
    "a = ['b', 'a', 'n', 'a', 'n']\n",
    "# 1. list 마지막에 a 추가\n",
    "a.append('a')\n",
    "print(a)\n",
    "\n",
    "# 2. 오름차순 정렬\n",
    "a.sort()\n",
    "print(a)\n",
    "# 2-1. 내림차순\n",
    "a.sort(reverse = True)\n",
    "print(a)\n",
    "# 3. 뒤집기\n",
    "a.reverse()\n",
    "print(a)\n",
    " #4. 리스트 a 에서 a 삭제, 출력\n",
    "a.remove('a')\n",
    "print(a)\n",
    "#5. \n",
    "a.pop()\n",
    "print(a)\n",
    "#6\n",
    "print(a.count('n'))"
   ]
  },
  {
   "cell_type": "code",
   "execution_count": null,
   "metadata": {},
   "outputs": [],
   "source": [
    "# 백만장자 swea\n",
    "for test_case in range(1, T + 1):\n",
    "# ///////////////////////////////////////////////////////////////////////////////////\n",
    "n=int(input())\n",
    "price=list(map(int,input().split()))\n",
    "\n",
    "result=0\n",
    "max_num=0\n",
    "for i in range(len(price)-1,-1,-1):\n",
    "\n",
    "if price[i]>max_num:\n",
    "max_num=price[i]\n",
    "else:\n",
    "result+=max_num-price[i]\n",
    "\n",
    "\n",
    "print('#%d %d'%(test_case,result))"
   ]
  }
 ],
 "metadata": {
  "kernelspec": {
   "display_name": "Python 3",
   "language": "python",
   "name": "python3"
  },
  "language_info": {
   "codemirror_mode": {
    "name": "ipython",
    "version": 3
   },
   "file_extension": ".py",
   "mimetype": "text/x-python",
   "name": "python",
   "nbconvert_exporter": "python",
   "pygments_lexer": "ipython3",
   "version": "3.9.13"
  },
  "orig_nbformat": 4
 },
 "nbformat": 4,
 "nbformat_minor": 2
}
