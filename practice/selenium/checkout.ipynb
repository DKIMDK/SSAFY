{
 "cells": [
  {
   "cell_type": "code",
   "execution_count": 4,
   "metadata": {},
   "outputs": [],
   "source": [
    "# !pip install selenium"
   ]
  },
  {
   "cell_type": "code",
   "execution_count": 5,
   "metadata": {},
   "outputs": [],
   "source": [
    "import time\n",
    "from selenium import webdriver #크롬 웹드라이버 다운로드 필요\n",
    "from selenium.webdriver.common.by import By\n",
    "from selenium.webdriver.common.keys import Keys\n",
    "# import datetime as dt\n",
    "import os\n",
    "import urllib.request"
   ]
  },
  {
   "cell_type": "code",
   "execution_count": 6,
   "metadata": {},
   "outputs": [],
   "source": [
    "\n",
    "url = \"https://edu.ssafy.com\" \n",
    "\n",
    "options = webdriver.ChromeOptions() # ChromeOptions\n",
    "options.add_argument(\"headless\")\n",
    "\n",
    "browser = webdriver.Chrome(\n",
    "    #  options = options \n",
    "    )\n",
    "\n",
    "browser.get(url)\n",
    "\n",
    "my_id = 'imdeokey@gmail.com'\n",
    "my_pw = '@lph@d0ggY'\n",
    "i = browser.find_element(By.XPATH, '//*[@id=\"userId\"]') #id 입력창 찾기\n",
    "# # i.click() # 클릭\n",
    "# time.sleep(0.2)\n",
    "i.send_keys(my_id) # id 입력\n",
    "# time.sleep(0.2)\n",
    "p = browser.find_element(By.XPATH, '//*[@id=\"userPwd\"]') #pw 입력창 찾기\n",
    "# p.click()\n",
    "# time.sleep(0.2)\n",
    "p.send_keys(my_pw)\n",
    "l = browser.find_element(By.XPATH, '//*[@id=\"wrap\"]/div/div/div[2]/form/div/div[2]/div[3]/a') # 로그인 버튼 찾기\n",
    "l.click()\n",
    "time.sleep(1) # 창 뜰때까지 대기(1초)\n",
    "\n",
    "# 시간이 되면 버튼 누르기\n",
    "end = False\n",
    "l2 = browser.find_element(By.XPATH, '//*[@id=\"checkOut\"]/span') # 퇴실버튼 찾기\n",
    "while not end:\n",
    "    date = urllib.request.urlopen('https://edu.ssafy.com').headers['Date'] #서버 시간 가져오기\n",
    "    server_time = time.strptime(date, '%a, %d %b %Y %H:%M:%S %Z') #'yyyy mm dd hh:mm:ss'을 yyyy, mm, dd, hh, mm, ss로 변환\n",
    "    if server_time.tm_hour == 9 and server_time.tm_sec >= 1:\n",
    "        l2.click()\n",
    "        end = True\n",
    "    else:\n",
    "        time.sleep(0.1)\n",
    "\n",
    "# 시스템 종료하기\n",
    "os.system('shutdown -s -t 0')"
   ]
  },
  {
   "cell_type": "code",
   "execution_count": null,
   "metadata": {},
   "outputs": [],
   "source": []
  }
 ],
 "metadata": {
  "kernelspec": {
   "display_name": "Python 3",
   "language": "python",
   "name": "python3"
  },
  "language_info": {
   "codemirror_mode": {
    "name": "ipython",
    "version": 3
   },
   "file_extension": ".py",
   "mimetype": "text/x-python",
   "name": "python",
   "nbconvert_exporter": "python",
   "pygments_lexer": "ipython3",
   "version": "3.9.13"
  },
  "orig_nbformat": 4
 },
 "nbformat": 4,
 "nbformat_minor": 2
}
